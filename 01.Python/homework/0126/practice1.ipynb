{
 "cells": [
  {
   "cell_type": "markdown",
   "metadata": {},
   "source": [
    "# Practice 1\n",
    "\n",
    "> 복잡한 자료구조의 (2차원 리스트) 반복문"
   ]
  },
  {
   "cell_type": "markdown",
   "metadata": {},
   "source": [
    "## 복잡한 리스트의 합\n",
    "\n",
    "> 2차원 리스트를 반복하는 방법을 알아봅시다. \n",
    "\n",
    "\n",
    "* 주어진 아래의 리스트를 반복하여 숫자의 합을 반환하시오.\n",
    "\n",
    "---\n",
    "**예시 입력**\n",
    "\n",
    "```python\n",
    "numbers = [\n",
    "    [1, 4],\n",
    "    [10, 5],\n",
    "    [20, 30]    \n",
    "]\n",
    "\n",
    "```\n",
    "\n",
    "**예시 출력**\n",
    "```python\n",
    "sum_list([[1, 4], [10, 5], [20, 30]]) # 70\n",
    "```"
   ]
  },
  {
   "cell_type": "markdown",
   "metadata": {},
   "source": [
    "### for 문을 활용하여 풀이하기\n",
    "\n",
    "```python\n",
    "for element in list:\n",
    "```"
   ]
  },
  {
   "cell_type": "code",
   "execution_count": 4,
   "metadata": {},
   "outputs": [],
   "source": [
    "# 아래에 코드를 작성하세요.\n",
    "def sum_list(numbers):\n",
    "    total = 0\n",
    "    for number in numbers:\n",
    "        for i in number:\n",
    "            total += i\n",
    "    return total"
   ]
  },
  {
   "cell_type": "code",
   "execution_count": 5,
   "metadata": {},
   "outputs": [
    {
     "name": "stdout",
     "output_type": "stream",
     "text": [
      "70\n"
     ]
    }
   ],
   "source": [
    "print(sum_list([[1, 4], [10, 5], [20, 30]]))"
   ]
  },
  {
   "cell_type": "markdown",
   "metadata": {},
   "source": [
    "### Index로 접근하여 풀이하기\n",
    "\n",
    "```python\n",
    "for element in range(len(list)):\n",
    "```"
   ]
  },
  {
   "cell_type": "code",
   "execution_count": 7,
   "metadata": {},
   "outputs": [],
   "source": [
    "# 아래에 코드를 작성하세요.\n",
    "def sum_list_index(numbers):\n",
    "    total = 0\n",
    "    for i in range(len(numbers)):\n",
    "        for j in range(len(numbers[i])):\n",
    "            total += numbers[i][j]\n",
    "    return total"
   ]
  },
  {
   "cell_type": "code",
   "execution_count": 8,
   "metadata": {},
   "outputs": [
    {
     "name": "stdout",
     "output_type": "stream",
     "text": [
      "70\n"
     ]
    }
   ],
   "source": [
    "print(sum_list_index([[1, 4], [10, 5], [20, 30]]))"
   ]
  },
  {
   "cell_type": "markdown",
   "metadata": {},
   "source": [
    "### while 문을 활용하여 풀이하기\n",
    "\n",
    "```python\n",
    "while ____:\n",
    "```"
   ]
  },
  {
   "cell_type": "code",
   "execution_count": 10,
   "metadata": {},
   "outputs": [],
   "source": [
    "## 아래에 코드를 작성하세요.\n",
    "def sum_list_while(numbers):\n",
    "    total = 0\n",
    "    count = 0\n",
    "    while count < len(numbers):\n",
    "        count2 = 0\n",
    "        while count2 < len(numbers[count]):\n",
    "            total += numbers[count][count2]\n",
    "            count2 += 1\n",
    "        count += 1\n",
    "    return total"
   ]
  },
  {
   "cell_type": "code",
   "execution_count": 11,
   "metadata": {},
   "outputs": [
    {
     "name": "stdout",
     "output_type": "stream",
     "text": [
      "70\n"
     ]
    }
   ],
   "source": [
    "print(sum_list_while([[1, 4], [10, 5], [20, 30]]))"
   ]
  },
  {
   "cell_type": "markdown",
   "metadata": {},
   "source": [
    "## 시험 점수\n",
    "\n",
    "> 2차원 배열\n",
    "\n",
    "\n",
    "* A반 학생들의 점수는 아래와 같고, students 리스트에 저장되어 있다.\n",
    "\n",
    "    * A학생(국어 100점, 수학 80점, 영어 100점)\n",
    "    * B학생(국어 90점, 수학 90점, 영어 60점)\n",
    "    * C학생(국어 80점, 수학 80점, 영어 80점)\n",
    "\n",
    "```python\n",
    "students = [\n",
    " [100, 80, 100],\n",
    " [90, 90, 60],\n",
    " [80, 80, 80]\n",
    "]\n",
    "```"
   ]
  },
  {
   "cell_type": "markdown",
   "metadata": {},
   "source": [
    "### 학생별 출력\n",
    "\n",
    "* 아래의 리스트를 반복하여 **학생별 총합**을 순서대로 `출력`하시오.\n",
    "\n",
    "* `sum` 함수 사용 금지\n",
    "\n",
    "---\n",
    "**예시 입력**\n",
    "\n",
    "```python\n",
    "students = [\n",
    " [100, 80, 100],\n",
    " [90, 90, 60],\n",
    " [80, 80, 80]\n",
    "]\n",
    "```\n",
    "\n",
    "**예시 출력**\n",
    "```\n",
    "280\n",
    "240\n",
    "240\n",
    "```"
   ]
  },
  {
   "cell_type": "code",
   "execution_count": 13,
   "metadata": {},
   "outputs": [],
   "source": [
    "students = [\n",
    " [100, 80, 100],\n",
    " [90, 90, 60],\n",
    " [80, 80, 80]\n",
    "]"
   ]
  },
  {
   "cell_type": "code",
   "execution_count": 14,
   "metadata": {},
   "outputs": [
    {
     "name": "stdout",
     "output_type": "stream",
     "text": [
      "280\n",
      "240\n",
      "240\n"
     ]
    }
   ],
   "source": [
    "# 아래에 풀이를 작성하세요. 함수 정의는 필요없습니다.\n",
    "for student in students:\n",
    "    total = 0\n",
    "    for score in student:\n",
    "        total += score\n",
    "    print(total)"
   ]
  },
  {
   "cell_type": "code",
   "execution_count": 17,
   "metadata": {},
   "outputs": [
    {
     "name": "stdout",
     "output_type": "stream",
     "text": [
      "280\n",
      "240\n",
      "240\n"
     ]
    }
   ],
   "source": [
    "for i in range(len(students)):\n",
    "    result = 0\n",
    "    for j in range(len(students[i])):\n",
    "        result += students[i][j]\n",
    "    print(result)"
   ]
  },
  {
   "cell_type": "markdown",
   "metadata": {},
   "source": [
    "### 과목별 출력\n",
    "\n",
    "* 아래의 리스트를 반복하여 **과목별 총합**을 순서대로 `출력`하시오.\n",
    "* `sum` 함수 사용 금지\n",
    "\n",
    "---\n",
    "**예시 입력**\n",
    "\n",
    "```python\n",
    "students = [\n",
    " [100, 80, 100],\n",
    " [90, 90, 60],\n",
    " [80, 80, 80]\n",
    "]\n",
    "```\n",
    "\n",
    "**예시 출력**\n",
    "```\n",
    "270\n",
    "250\n",
    "240\n",
    "```"
   ]
  },
  {
   "cell_type": "code",
   "execution_count": 15,
   "metadata": {},
   "outputs": [],
   "source": [
    "students = [\n",
    " [100, 80, 100],\n",
    " [90, 90, 60],\n",
    " [80, 80, 80]\n",
    "]"
   ]
  },
  {
   "cell_type": "code",
   "execution_count": 19,
   "metadata": {},
   "outputs": [
    {
     "name": "stdout",
     "output_type": "stream",
     "text": [
      "270\n",
      "250\n",
      "240\n",
      "370\n",
      "330\n",
      "340\n"
     ]
    }
   ],
   "source": [
    "# 아래에 풀이를 작성하세요. 함수 정의는 필요없습니다.\n",
    "\n",
    "# 1\n",
    "for i in range(len(students)):\n",
    "    result = 0\n",
    "    for j in range(len(students[i])):\n",
    "        result += students[j][i]\n",
    "    print(result)\n",
    "    \n",
    "# 2\n",
    "scores = students[0]\n",
    "for student in students:\n",
    "    for i in range(3):\n",
    "        scores[i] += student[i]\n",
    "for score in scores:\n",
    "    print(score)"
   ]
  }
 ],
 "metadata": {
  "kernelspec": {
   "display_name": "Python 3",
   "language": "python",
   "name": "python3"
  },
  "language_info": {
   "codemirror_mode": {
    "name": "ipython",
    "version": 3
   },
   "file_extension": ".py",
   "mimetype": "text/x-python",
   "name": "python",
   "nbconvert_exporter": "python",
   "pygments_lexer": "ipython3",
   "version": "3.8.7"
  },
  "toc": {
   "base_numbering": 1,
   "nav_menu": {},
   "number_sections": true,
   "sideBar": true,
   "skip_h1_title": false,
   "title_cell": "Table of Contents",
   "title_sidebar": "Contents",
   "toc_cell": false,
   "toc_position": {},
   "toc_section_display": true,
   "toc_window_display": false
  },
  "varInspector": {
   "cols": {
    "lenName": 16,
    "lenType": 16,
    "lenVar": 40
   },
   "kernels_config": {
    "python": {
     "delete_cmd_postfix": "",
     "delete_cmd_prefix": "del ",
     "library": "var_list.py",
     "varRefreshCmd": "print(var_dic_list())"
    },
    "r": {
     "delete_cmd_postfix": ") ",
     "delete_cmd_prefix": "rm(",
     "library": "var_list.r",
     "varRefreshCmd": "cat(var_dic_list()) "
    }
   },
   "types_to_exclude": [
    "module",
    "function",
    "builtin_function_or_method",
    "instance",
    "_Feature"
   ],
   "window_display": false
  }
 },
 "nbformat": 4,
 "nbformat_minor": 4
}
